{
 "cells": [
  {
   "cell_type": "code",
   "execution_count": 1,
   "metadata": {},
   "outputs": [
    {
     "name": "stdout",
     "output_type": "stream",
     "text": [
      "1 3.5 2 5 10 4\n"
     ]
    }
   ],
   "source": [
    "from heapq import nlargest\n",
    "integers = [1, 7, 2, 10, 20, 4]\n",
    "largest_integers = nlargest(3, integers)\n",
    "for n, i in enumerate(integers):\n",
    "    for k in largest_integers:\n",
    "        if i == k:\n",
    "            integers[n] = k/2\n",
    "for a, b in enumerate(integers):\n",
    "    if type(b) == float:\n",
    "        if b.is_integer() == True:\n",
    "            integers[a] = int(b)\n",
    "    \n",
    "print(*integers)"
   ]
  }
 ],
 "metadata": {
  "kernelspec": {
   "display_name": "Python 3",
   "language": "python",
   "name": "python3"
  },
  "language_info": {
   "codemirror_mode": {
    "name": "ipython",
    "version": 3
   },
   "file_extension": ".py",
   "mimetype": "text/x-python",
   "name": "python",
   "nbconvert_exporter": "python",
   "pygments_lexer": "ipython3",
   "version": "3.7.4"
  }
 },
 "nbformat": 4,
 "nbformat_minor": 2
}
